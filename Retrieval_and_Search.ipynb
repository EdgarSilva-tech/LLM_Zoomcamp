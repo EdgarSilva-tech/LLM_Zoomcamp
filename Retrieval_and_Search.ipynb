{
 "cells": [
  {
   "cell_type": "code",
   "execution_count": null,
   "id": "ed78e4d0-2c4f-43fb-8389-d42b50a507e8",
   "metadata": {},
   "outputs": [],
   "source": [
    "!wget https://raw.githubusercontent.com/alexeygrigorev/minsearch/refs/heads/main/minsearch.py"
   ]
  },
  {
   "cell_type": "code",
   "execution_count": null,
   "id": "48aa7625-4cc1-431f-8dee-40ec17e53120",
   "metadata": {},
   "outputs": [],
   "source": [
    "import minsearch\n",
    "import os\n",
    "from openai import OpenAI\n",
    "import json"
   ]
  },
  {
   "cell_type": "code",
   "execution_count": null,
   "id": "e1b427a8-8acd-400b-ad18-eff234382b5c",
   "metadata": {},
   "outputs": [],
   "source": [
    "# os.environ['HF_HOME'] = '/run/cache/'"
   ]
  },
  {
   "cell_type": "code",
   "execution_count": null,
   "id": "f0c9cd88-c846-4ee8-94f4-4878fcd0d1c3",
   "metadata": {},
   "outputs": [],
   "source": [
    "with open('documents.json', 'rt') as f_in:\n",
    "    docs_raw = json.load(f_in)"
   ]
  },
  {
   "cell_type": "code",
   "execution_count": null,
   "id": "5728eabd-4d5a-4931-a9c5-6f22227892c7",
   "metadata": {},
   "outputs": [],
   "source": [
    "docs_raw"
   ]
  },
  {
   "cell_type": "code",
   "execution_count": null,
   "id": "f9ab2e2c-53b3-4956-8231-b1a31c8e7777",
   "metadata": {},
   "outputs": [],
   "source": [
    "documents = []\n",
    "\n",
    "for course_dict in docs_raw:\n",
    "    for doc in course_dict['documents']:\n",
    "        doc['course'] = course_dict['course']\n",
    "        documents.append(doc)"
   ]
  },
  {
   "cell_type": "code",
   "execution_count": null,
   "id": "52c95e23-0088-449d-ae7b-6053d50d1246",
   "metadata": {},
   "outputs": [],
   "source": [
    "documents[0]"
   ]
  },
  {
   "cell_type": "code",
   "execution_count": null,
   "id": "82755cfd-a44f-473a-a22e-937b6dab03e2",
   "metadata": {},
   "outputs": [],
   "source": [
    "index = minsearch.Index(text_fields=[\"question\", \"text\", \"section\"],\n",
    "                keyword_fields=[\"course\"]\n",
    "               )\n",
    "index.fit(documents)"
   ]
  },
  {
   "cell_type": "code",
   "execution_count": null,
   "id": "3a86d9cf-06e7-40a6-8145-cc7c797f75d1",
   "metadata": {},
   "outputs": [],
   "source": [
    "'SELECT * WHERE course = \"data-engineering-zoomcamp\";'"
   ]
  },
  {
   "cell_type": "code",
   "execution_count": null,
   "id": "b5090501-0bf7-4d14-96f9-5c821124d8ad",
   "metadata": {},
   "outputs": [],
   "source": [
    "client = OpenAI()"
   ]
  },
  {
   "cell_type": "code",
   "execution_count": null,
   "id": "51c36f9e-6a01-4216-b9de-f762c264d28b",
   "metadata": {},
   "outputs": [],
   "source": [
    "def search(query):\n",
    "    boost = {\"question\": 3.0, 'section': 0.5}\n",
    "\n",
    "    results = index.search(\n",
    "        query=query,\n",
    "        filter_dict={'course': 'data-engineering-zoomcamp'},\n",
    "        boost_dict=boost,\n",
    "        num_results=5\n",
    "    )\n",
    "    return results"
   ]
  },
  {
   "cell_type": "code",
   "execution_count": null,
   "id": "74eef032-5fc1-47fa-8aa3-898954232888",
   "metadata": {},
   "outputs": [],
   "source": [
    "def build_prompt(query, search_results):\n",
    "    prompt_template = \"\"\"\n",
    "    You're a course teaching assistant. Answer the QUESTION based on the CONTEXT. Use only the facts from the\n",
    "    CONTEXT when answering the QUESTION.\n",
    "    \n",
    "    QUESTION: {question}\n",
    "    \n",
    "    CONTEXT: {context}\n",
    "    \"\"\".strip()\n",
    "\n",
    "    context = \"\"\n",
    "\n",
    "    for doc in search_results:\n",
    "        context = context + f\"section: {doc['section']}\\nquestion: {doc['question']}\\nanswer: {doc['text']}\\n\\n\"\n",
    "\n",
    "    prompt = prompt_template.format(question=query, context=context).strip()\n",
    "    return prompt"
   ]
  },
  {
   "cell_type": "code",
   "execution_count": null,
   "id": "c45a5438-9bef-46ae-9862-9c846664855c",
   "metadata": {},
   "outputs": [],
   "source": [
    "def llm(prompt):\n",
    "    response = client.chat.completions.create(\n",
    "    model='gpt-4o',\n",
    "    messages=[{'role': 'user', 'content': prompt}]\n",
    "    )\n",
    "\n",
    "    return response.choices[0].message.content"
   ]
  },
  {
   "cell_type": "code",
   "execution_count": null,
   "id": "220411a7-2b44-4d18-9acd-0d413ed8d097",
   "metadata": {},
   "outputs": [],
   "source": [
    "query = \"The course has already started can i enroll?\"\n",
    "\n",
    "def rag(query):\n",
    "    search_results = search(query)\n",
    "    prompt = build_prompt(query, search_results)\n",
    "    response = llm(prompt)\n",
    "    return response"
   ]
  },
  {
   "cell_type": "code",
   "execution_count": null,
   "id": "4c798530-0a5f-49d5-95e1-a180e5281598",
   "metadata": {},
   "outputs": [],
   "source": [
    "rag(query)"
   ]
  },
  {
   "cell_type": "code",
   "execution_count": null,
   "id": "216cdd88-01ff-4ff3-906a-2f80fecaa6a5",
   "metadata": {},
   "outputs": [],
   "source": [
    "from elasticsearch import Elasticsearch"
   ]
  },
  {
   "cell_type": "code",
   "execution_count": null,
   "id": "17977cb8-da53-4efd-a768-06c0b3af8039",
   "metadata": {},
   "outputs": [],
   "source": [
    "es_client = Elasticsearch('http://localhost:9200')"
   ]
  },
  {
   "cell_type": "code",
   "execution_count": null,
   "id": "32eab216-3911-42e8-9a43-c3721467df2b",
   "metadata": {},
   "outputs": [],
   "source": [
    "index_settings = {\n",
    "    \"settings\": {\n",
    "        \"number_of_shards\": 1,\n",
    "        \"number_of_replicas\": 0\n",
    "    },\n",
    "    \"mappings\": {\n",
    "        \"properties\": {\n",
    "            \"text\": {\"type\": \"text\"},\n",
    "            \"section\": {\"type\": \"text\"},\n",
    "            \"question\": {\"type\": \"text\"},\n",
    "            \"course\": {\"type\": \"keyword\"} \n",
    "        }\n",
    "    }\n",
    "}\n",
    "\n",
    "index_name = \"course-questions\"\n",
    "\n",
    "es_client.indices.create(index=index_name, body=index_settings)"
   ]
  },
  {
   "cell_type": "code",
   "execution_count": null,
   "id": "7d355e4b-fcf6-4b64-8182-613c30ce3e11",
   "metadata": {},
   "outputs": [],
   "source": [
    "from tqdm.auto import tqdm\n",
    "\n",
    "for doc in tqdm(documents):\n",
    "    es_client.index(index=index_name, document=doc)"
   ]
  },
  {
   "cell_type": "code",
   "execution_count": null,
   "id": "0fda64a0-6415-43b0-a6e5-45d39604c4f0",
   "metadata": {},
   "outputs": [],
   "source": [
    "query = \"I just discovered the course can i still join it?\""
   ]
  },
  {
   "cell_type": "code",
   "execution_count": null,
   "id": "9cdca239-6d0f-4c06-8784-5f78d09d8977",
   "metadata": {},
   "outputs": [],
   "source": [
    "def elastic_search(query):\n",
    "    search_query = {\n",
    "        \"size\": 5,\n",
    "        \"query\": {\n",
    "            \"bool\": {\n",
    "                \"must\": {\n",
    "                    \"multi_match\": {\n",
    "                        \"query\": query,\n",
    "                        \"fields\": [\"question^3\", \"text\", \"section\"],\n",
    "                        \"type\": \"best_fields\"\n",
    "                    }\n",
    "                },\n",
    "                \"filter\": {\n",
    "                    \"term\": {\n",
    "                        \"course\": \"data-engineering-zoomcamp\"\n",
    "                    }\n",
    "                }\n",
    "            }\n",
    "        }\n",
    "    }\n",
    "    answer = es_client.search(index=index_name, body=search_query)\n",
    "\n",
    "    answer_docs = []\n",
    "\n",
    "    for hit in answer['hits']['hits']:\n",
    "        answer_docs.append(hit['_source'])\n",
    "    return answer_docs"
   ]
  },
  {
   "cell_type": "code",
   "execution_count": null,
   "id": "5ca6e648-3b97-4813-adf8-da25912c4f27",
   "metadata": {},
   "outputs": [],
   "source": [
    "def rag(query):\n",
    "    search_results = elastic_search(query)\n",
    "    prompt = build_prompt(query, search_results)\n",
    "    response = llm(prompt)\n",
    "    return response"
   ]
  },
  {
   "cell_type": "code",
   "execution_count": null,
   "id": "10562deb-3a8a-4bab-b2c4-0d5bd85994f5",
   "metadata": {},
   "outputs": [],
   "source": [
    "rag(query)"
   ]
  }
 ],
 "metadata": {
  "kernelspec": {
   "display_name": "Python 3 (ipykernel)",
   "language": "python",
   "name": "python3"
  },
  "language_info": {
   "codemirror_mode": {
    "name": "ipython",
    "version": 3
   },
   "file_extension": ".py",
   "mimetype": "text/x-python",
   "name": "python",
   "nbconvert_exporter": "python",
   "pygments_lexer": "ipython3",
   "version": "3.12.1"
  }
 },
 "nbformat": 4,
 "nbformat_minor": 5
}
