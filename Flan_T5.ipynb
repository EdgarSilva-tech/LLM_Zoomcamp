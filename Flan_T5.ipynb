{
  "cells": [
    {
      "cell_type": "code",
      "execution_count": 4,
      "id": "ed78e4d0-2c4f-43fb-8389-d42b50a507e8",
      "metadata": {
        "colab": {
          "base_uri": "https://localhost:8080/"
        },
        "id": "ed78e4d0-2c4f-43fb-8389-d42b50a507e8",
        "outputId": "9e7ab704-a39e-4fa1-e65e-350c15b84cff"
      },
      "outputs": [
        {
          "output_type": "stream",
          "name": "stdout",
          "text": [
            "--2024-10-01 12:54:02--  https://raw.githubusercontent.com/alexeygrigorev/minsearch/refs/heads/main/minsearch.py\n",
            "Resolving raw.githubusercontent.com (raw.githubusercontent.com)... 185.199.110.133, 185.199.108.133, 185.199.109.133, ...\n",
            "Connecting to raw.githubusercontent.com (raw.githubusercontent.com)|185.199.110.133|:443... connected.\n",
            "HTTP request sent, awaiting response... 200 OK\n",
            "Length: 3832 (3.7K) [text/plain]\n",
            "Saving to: ‘minsearch.py.1’\n",
            "\n",
            "\rminsearch.py.1        0%[                    ]       0  --.-KB/s               \rminsearch.py.1      100%[===================>]   3.74K  --.-KB/s    in 0s      \n",
            "\n",
            "2024-10-01 12:54:02 (71.7 MB/s) - ‘minsearch.py.1’ saved [3832/3832]\n",
            "\n",
            "Requirement already satisfied: openai in /usr/local/lib/python3.10/dist-packages (1.50.2)\n",
            "Requirement already satisfied: anyio<5,>=3.5.0 in /usr/local/lib/python3.10/dist-packages (from openai) (3.7.1)\n",
            "Requirement already satisfied: distro<2,>=1.7.0 in /usr/lib/python3/dist-packages (from openai) (1.7.0)\n",
            "Requirement already satisfied: httpx<1,>=0.23.0 in /usr/local/lib/python3.10/dist-packages (from openai) (0.27.2)\n",
            "Requirement already satisfied: jiter<1,>=0.4.0 in /usr/local/lib/python3.10/dist-packages (from openai) (0.5.0)\n",
            "Requirement already satisfied: pydantic<3,>=1.9.0 in /usr/local/lib/python3.10/dist-packages (from openai) (2.9.2)\n",
            "Requirement already satisfied: sniffio in /usr/local/lib/python3.10/dist-packages (from openai) (1.3.1)\n",
            "Requirement already satisfied: tqdm>4 in /usr/local/lib/python3.10/dist-packages (from openai) (4.66.5)\n",
            "Requirement already satisfied: typing-extensions<5,>=4.11 in /usr/local/lib/python3.10/dist-packages (from openai) (4.12.2)\n",
            "Requirement already satisfied: idna>=2.8 in /usr/local/lib/python3.10/dist-packages (from anyio<5,>=3.5.0->openai) (3.10)\n",
            "Requirement already satisfied: exceptiongroup in /usr/local/lib/python3.10/dist-packages (from anyio<5,>=3.5.0->openai) (1.2.2)\n",
            "Requirement already satisfied: certifi in /usr/local/lib/python3.10/dist-packages (from httpx<1,>=0.23.0->openai) (2024.8.30)\n",
            "Requirement already satisfied: httpcore==1.* in /usr/local/lib/python3.10/dist-packages (from httpx<1,>=0.23.0->openai) (1.0.5)\n",
            "Requirement already satisfied: h11<0.15,>=0.13 in /usr/local/lib/python3.10/dist-packages (from httpcore==1.*->httpx<1,>=0.23.0->openai) (0.14.0)\n",
            "Requirement already satisfied: annotated-types>=0.6.0 in /usr/local/lib/python3.10/dist-packages (from pydantic<3,>=1.9.0->openai) (0.7.0)\n",
            "Requirement already satisfied: pydantic-core==2.23.4 in /usr/local/lib/python3.10/dist-packages (from pydantic<3,>=1.9.0->openai) (2.23.4)\n",
            "Requirement already satisfied: elasticsearch in /usr/local/lib/python3.10/dist-packages (8.15.1)\n",
            "Requirement already satisfied: elastic-transport<9,>=8.13 in /usr/local/lib/python3.10/dist-packages (from elasticsearch) (8.15.0)\n",
            "Requirement already satisfied: urllib3<3,>=1.26.2 in /usr/local/lib/python3.10/dist-packages (from elastic-transport<9,>=8.13->elasticsearch) (2.2.3)\n",
            "Requirement already satisfied: certifi in /usr/local/lib/python3.10/dist-packages (from elastic-transport<9,>=8.13->elasticsearch) (2024.8.30)\n"
          ]
        }
      ],
      "source": [
        "!wget https://raw.githubusercontent.com/alexeygrigorev/minsearch/refs/heads/main/minsearch.py\n",
        "!pip install openai\n",
        "!pip install elasticsearch"
      ]
    },
    {
      "cell_type": "code",
      "execution_count": 5,
      "id": "48aa7625-4cc1-431f-8dee-40ec17e53120",
      "metadata": {
        "id": "48aa7625-4cc1-431f-8dee-40ec17e53120"
      },
      "outputs": [],
      "source": [
        "import minsearch\n",
        "import os\n",
        "from openai import OpenAI\n",
        "import json"
      ]
    },
    {
      "cell_type": "code",
      "execution_count": 6,
      "id": "f0c9cd88-c846-4ee8-94f4-4878fcd0d1c3",
      "metadata": {
        "id": "f0c9cd88-c846-4ee8-94f4-4878fcd0d1c3"
      },
      "outputs": [],
      "source": [
        "with open('documents.json', 'rt') as f_in:\n",
        "    docs_raw = json.load(f_in)"
      ]
    },
    {
      "cell_type": "code",
      "execution_count": 7,
      "id": "f9ab2e2c-53b3-4956-8231-b1a31c8e7777",
      "metadata": {
        "id": "f9ab2e2c-53b3-4956-8231-b1a31c8e7777"
      },
      "outputs": [],
      "source": [
        "documents = []\n",
        "\n",
        "for course_dict in docs_raw:\n",
        "    for doc in course_dict['documents']:\n",
        "        doc['course'] = course_dict['course']\n",
        "        documents.append(doc)"
      ]
    },
    {
      "cell_type": "code",
      "execution_count": 9,
      "id": "216cdd88-01ff-4ff3-906a-2f80fecaa6a5",
      "metadata": {
        "id": "216cdd88-01ff-4ff3-906a-2f80fecaa6a5"
      },
      "outputs": [],
      "source": [
        "from elasticsearch import Elasticsearch"
      ]
    },
    {
      "cell_type": "code",
      "execution_count": 10,
      "id": "17977cb8-da53-4efd-a768-06c0b3af8039",
      "metadata": {
        "id": "17977cb8-da53-4efd-a768-06c0b3af8039"
      },
      "outputs": [],
      "source": [
        "es_client = Elasticsearch('http://localhost:9200')"
      ]
    },
    {
      "cell_type": "code",
      "execution_count": 12,
      "id": "32eab216-3911-42e8-9a43-c3721467df2b",
      "metadata": {
        "colab": {
          "base_uri": "https://localhost:8080/",
          "height": 810
        },
        "id": "32eab216-3911-42e8-9a43-c3721467df2b",
        "outputId": "5f3e562e-491a-4399-b6bd-ed627b3bc23f"
      },
      "outputs": [
        {
          "output_type": "stream",
          "name": "stderr",
          "text": [
            "WARNING:elastic_transport.node_pool:Node <Urllib3HttpNode(http://localhost:9200)> has failed for 5 times in a row, putting on 16 second timeout\n",
            "WARNING:elastic_transport.transport:Retrying request after failure (attempt 0 of 3)\n",
            "Traceback (most recent call last):\n",
            "  File \"/usr/local/lib/python3.10/dist-packages/elastic_transport/_transport.py\", line 342, in perform_request\n",
            "    resp = node.perform_request(\n",
            "  File \"/usr/local/lib/python3.10/dist-packages/elastic_transport/_node/_http_urllib3.py\", line 202, in perform_request\n",
            "    raise err from None\n",
            "elastic_transport.ConnectionError: Connection error caused by: NewConnectionError(<urllib3.connection.HTTPConnection object at 0x7ec8e7e499c0>: Failed to establish a new connection: [Errno 111] Connection refused)\n",
            "WARNING:elastic_transport.node_pool:Node <Urllib3HttpNode(http://localhost:9200)> has failed for 6 times in a row, putting on 30 second timeout\n",
            "WARNING:elastic_transport.transport:Retrying request after failure (attempt 1 of 3)\n",
            "Traceback (most recent call last):\n",
            "  File \"/usr/local/lib/python3.10/dist-packages/elastic_transport/_transport.py\", line 342, in perform_request\n",
            "    resp = node.perform_request(\n",
            "  File \"/usr/local/lib/python3.10/dist-packages/elastic_transport/_node/_http_urllib3.py\", line 202, in perform_request\n",
            "    raise err from None\n",
            "elastic_transport.ConnectionError: Connection error caused by: NewConnectionError(<urllib3.connection.HTTPConnection object at 0x7ec8e7e4a260>: Failed to establish a new connection: [Errno 111] Connection refused)\n",
            "WARNING:elastic_transport.node_pool:Node <Urllib3HttpNode(http://localhost:9200)> has failed for 7 times in a row, putting on 30 second timeout\n",
            "WARNING:elastic_transport.transport:Retrying request after failure (attempt 2 of 3)\n",
            "Traceback (most recent call last):\n",
            "  File \"/usr/local/lib/python3.10/dist-packages/elastic_transport/_transport.py\", line 342, in perform_request\n",
            "    resp = node.perform_request(\n",
            "  File \"/usr/local/lib/python3.10/dist-packages/elastic_transport/_node/_http_urllib3.py\", line 202, in perform_request\n",
            "    raise err from None\n",
            "elastic_transport.ConnectionError: Connection error caused by: NewConnectionError(<urllib3.connection.HTTPConnection object at 0x7ec8e7e4b280>: Failed to establish a new connection: [Errno 111] Connection refused)\n",
            "WARNING:elastic_transport.node_pool:Node <Urllib3HttpNode(http://localhost:9200)> has failed for 8 times in a row, putting on 30 second timeout\n"
          ]
        },
        {
          "output_type": "error",
          "ename": "ConnectionError",
          "evalue": "Connection error caused by: ConnectionError(Connection error caused by: NewConnectionError(<urllib3.connection.HTTPConnection object at 0x7ec8e7e499c0>: Failed to establish a new connection: [Errno 111] Connection refused))",
          "traceback": [
            "\u001b[0;31m---------------------------------------------------------------------------\u001b[0m",
            "\u001b[0;31mConnectionError\u001b[0m                           Traceback (most recent call last)",
            "\u001b[0;32m<ipython-input-12-08766b036057>\u001b[0m in \u001b[0;36m<cell line: 18>\u001b[0;34m()\u001b[0m\n\u001b[1;32m     16\u001b[0m \u001b[0mindex_name\u001b[0m \u001b[0;34m=\u001b[0m \u001b[0;34m\"course-questions\"\u001b[0m\u001b[0;34m\u001b[0m\u001b[0;34m\u001b[0m\u001b[0m\n\u001b[1;32m     17\u001b[0m \u001b[0;34m\u001b[0m\u001b[0m\n\u001b[0;32m---> 18\u001b[0;31m \u001b[0mes_client\u001b[0m\u001b[0;34m.\u001b[0m\u001b[0mindices\u001b[0m\u001b[0;34m.\u001b[0m\u001b[0mcreate\u001b[0m\u001b[0;34m(\u001b[0m\u001b[0mindex\u001b[0m\u001b[0;34m=\u001b[0m\u001b[0mindex_name\u001b[0m\u001b[0;34m,\u001b[0m \u001b[0mbody\u001b[0m\u001b[0;34m=\u001b[0m\u001b[0mindex_settings\u001b[0m\u001b[0;34m)\u001b[0m\u001b[0;34m\u001b[0m\u001b[0;34m\u001b[0m\u001b[0m\n\u001b[0m",
            "\u001b[0;32m/usr/local/lib/python3.10/dist-packages/elasticsearch/_sync/client/utils.py\u001b[0m in \u001b[0;36mwrapped\u001b[0;34m(*args, **kwargs)\u001b[0m\n\u001b[1;32m    444\u001b[0m                         \u001b[0;32mpass\u001b[0m\u001b[0;34m\u001b[0m\u001b[0;34m\u001b[0m\u001b[0m\n\u001b[1;32m    445\u001b[0m \u001b[0;34m\u001b[0m\u001b[0m\n\u001b[0;32m--> 446\u001b[0;31m             \u001b[0;32mreturn\u001b[0m \u001b[0mapi\u001b[0m\u001b[0;34m(\u001b[0m\u001b[0;34m*\u001b[0m\u001b[0margs\u001b[0m\u001b[0;34m,\u001b[0m \u001b[0;34m**\u001b[0m\u001b[0mkwargs\u001b[0m\u001b[0;34m)\u001b[0m\u001b[0;34m\u001b[0m\u001b[0;34m\u001b[0m\u001b[0m\n\u001b[0m\u001b[1;32m    447\u001b[0m \u001b[0;34m\u001b[0m\u001b[0m\n\u001b[1;32m    448\u001b[0m         \u001b[0;32mreturn\u001b[0m \u001b[0mwrapped\u001b[0m  \u001b[0;31m# type: ignore[return-value]\u001b[0m\u001b[0;34m\u001b[0m\u001b[0;34m\u001b[0m\u001b[0m\n",
            "\u001b[0;32m/usr/local/lib/python3.10/dist-packages/elasticsearch/_sync/client/indices.py\u001b[0m in \u001b[0;36mcreate\u001b[0;34m(self, index, aliases, error_trace, filter_path, human, mappings, master_timeout, pretty, settings, timeout, wait_for_active_shards, body)\u001b[0m\n\u001b[1;32m    543\u001b[0m         \u001b[0;32mif\u001b[0m \u001b[0m__body\u001b[0m \u001b[0;32mis\u001b[0m \u001b[0;32mnot\u001b[0m \u001b[0;32mNone\u001b[0m\u001b[0;34m:\u001b[0m\u001b[0;34m\u001b[0m\u001b[0;34m\u001b[0m\u001b[0m\n\u001b[1;32m    544\u001b[0m             \u001b[0m__headers\u001b[0m\u001b[0;34m[\u001b[0m\u001b[0;34m\"content-type\"\u001b[0m\u001b[0;34m]\u001b[0m \u001b[0;34m=\u001b[0m \u001b[0;34m\"application/json\"\u001b[0m\u001b[0;34m\u001b[0m\u001b[0;34m\u001b[0m\u001b[0m\n\u001b[0;32m--> 545\u001b[0;31m         return self.perform_request(  # type: ignore[return-value]\n\u001b[0m\u001b[1;32m    546\u001b[0m             \u001b[0;34m\"PUT\"\u001b[0m\u001b[0;34m,\u001b[0m\u001b[0;34m\u001b[0m\u001b[0;34m\u001b[0m\u001b[0m\n\u001b[1;32m    547\u001b[0m             \u001b[0m__path\u001b[0m\u001b[0;34m,\u001b[0m\u001b[0;34m\u001b[0m\u001b[0;34m\u001b[0m\u001b[0m\n",
            "\u001b[0;32m/usr/local/lib/python3.10/dist-packages/elasticsearch/_sync/client/_base.py\u001b[0m in \u001b[0;36mperform_request\u001b[0;34m(self, method, path, params, headers, body, endpoint_id, path_parts)\u001b[0m\n\u001b[1;32m    421\u001b[0m         \u001b[0;31m# Use the internal clients .perform_request() implementation\u001b[0m\u001b[0;34m\u001b[0m\u001b[0;34m\u001b[0m\u001b[0m\n\u001b[1;32m    422\u001b[0m         \u001b[0;31m# so we take advantage of their transport options.\u001b[0m\u001b[0;34m\u001b[0m\u001b[0;34m\u001b[0m\u001b[0m\n\u001b[0;32m--> 423\u001b[0;31m         return self._client.perform_request(\n\u001b[0m\u001b[1;32m    424\u001b[0m             \u001b[0mmethod\u001b[0m\u001b[0;34m,\u001b[0m\u001b[0;34m\u001b[0m\u001b[0;34m\u001b[0m\u001b[0m\n\u001b[1;32m    425\u001b[0m             \u001b[0mpath\u001b[0m\u001b[0;34m,\u001b[0m\u001b[0;34m\u001b[0m\u001b[0;34m\u001b[0m\u001b[0m\n",
            "\u001b[0;32m/usr/local/lib/python3.10/dist-packages/elasticsearch/_sync/client/_base.py\u001b[0m in \u001b[0;36mperform_request\u001b[0;34m(self, method, path, params, headers, body, endpoint_id, path_parts)\u001b[0m\n\u001b[1;32m    269\u001b[0m             \u001b[0mpath_parts\u001b[0m\u001b[0;34m=\u001b[0m\u001b[0mpath_parts\u001b[0m \u001b[0;32mor\u001b[0m \u001b[0;34m{\u001b[0m\u001b[0;34m}\u001b[0m\u001b[0;34m,\u001b[0m\u001b[0;34m\u001b[0m\u001b[0;34m\u001b[0m\u001b[0m\n\u001b[1;32m    270\u001b[0m         ) as otel_span:\n\u001b[0;32m--> 271\u001b[0;31m             response = self._perform_request(\n\u001b[0m\u001b[1;32m    272\u001b[0m                 \u001b[0mmethod\u001b[0m\u001b[0;34m,\u001b[0m\u001b[0;34m\u001b[0m\u001b[0;34m\u001b[0m\u001b[0m\n\u001b[1;32m    273\u001b[0m                 \u001b[0mpath\u001b[0m\u001b[0;34m,\u001b[0m\u001b[0;34m\u001b[0m\u001b[0;34m\u001b[0m\u001b[0m\n",
            "\u001b[0;32m/usr/local/lib/python3.10/dist-packages/elasticsearch/_sync/client/_base.py\u001b[0m in \u001b[0;36m_perform_request\u001b[0;34m(self, method, path, params, headers, body, otel_span)\u001b[0m\n\u001b[1;32m    314\u001b[0m             \u001b[0mtarget\u001b[0m \u001b[0;34m=\u001b[0m \u001b[0mpath\u001b[0m\u001b[0;34m\u001b[0m\u001b[0;34m\u001b[0m\u001b[0m\n\u001b[1;32m    315\u001b[0m \u001b[0;34m\u001b[0m\u001b[0m\n\u001b[0;32m--> 316\u001b[0;31m         meta, resp_body = self.transport.perform_request(\n\u001b[0m\u001b[1;32m    317\u001b[0m             \u001b[0mmethod\u001b[0m\u001b[0;34m,\u001b[0m\u001b[0;34m\u001b[0m\u001b[0;34m\u001b[0m\u001b[0m\n\u001b[1;32m    318\u001b[0m             \u001b[0mtarget\u001b[0m\u001b[0;34m,\u001b[0m\u001b[0;34m\u001b[0m\u001b[0;34m\u001b[0m\u001b[0m\n",
            "\u001b[0;32m/usr/local/lib/python3.10/dist-packages/elastic_transport/_transport.py\u001b[0m in \u001b[0;36mperform_request\u001b[0;34m(self, method, target, body, headers, max_retries, retry_on_status, retry_on_timeout, request_timeout, client_meta, otel_span)\u001b[0m\n\u001b[1;32m    340\u001b[0m             \u001b[0;32mtry\u001b[0m\u001b[0;34m:\u001b[0m\u001b[0;34m\u001b[0m\u001b[0;34m\u001b[0m\u001b[0m\n\u001b[1;32m    341\u001b[0m                 \u001b[0motel_span\u001b[0m\u001b[0;34m.\u001b[0m\u001b[0mset_node_metadata\u001b[0m\u001b[0;34m(\u001b[0m\u001b[0mnode\u001b[0m\u001b[0;34m.\u001b[0m\u001b[0mhost\u001b[0m\u001b[0;34m,\u001b[0m \u001b[0mnode\u001b[0m\u001b[0;34m.\u001b[0m\u001b[0mport\u001b[0m\u001b[0;34m,\u001b[0m \u001b[0mnode\u001b[0m\u001b[0;34m.\u001b[0m\u001b[0mbase_url\u001b[0m\u001b[0;34m,\u001b[0m \u001b[0mtarget\u001b[0m\u001b[0;34m)\u001b[0m\u001b[0;34m\u001b[0m\u001b[0;34m\u001b[0m\u001b[0m\n\u001b[0;32m--> 342\u001b[0;31m                 resp = node.perform_request(\n\u001b[0m\u001b[1;32m    343\u001b[0m                     \u001b[0mmethod\u001b[0m\u001b[0;34m,\u001b[0m\u001b[0;34m\u001b[0m\u001b[0;34m\u001b[0m\u001b[0m\n\u001b[1;32m    344\u001b[0m                     \u001b[0mtarget\u001b[0m\u001b[0;34m,\u001b[0m\u001b[0;34m\u001b[0m\u001b[0;34m\u001b[0m\u001b[0m\n",
            "\u001b[0;32m/usr/local/lib/python3.10/dist-packages/elastic_transport/_node/_http_urllib3.py\u001b[0m in \u001b[0;36mperform_request\u001b[0;34m(self, method, target, body, headers, request_timeout)\u001b[0m\n\u001b[1;32m    200\u001b[0m                 \u001b[0mexception\u001b[0m\u001b[0;34m=\u001b[0m\u001b[0merr\u001b[0m\u001b[0;34m,\u001b[0m\u001b[0;34m\u001b[0m\u001b[0;34m\u001b[0m\u001b[0m\n\u001b[1;32m    201\u001b[0m             )\n\u001b[0;32m--> 202\u001b[0;31m             \u001b[0;32mraise\u001b[0m \u001b[0merr\u001b[0m \u001b[0;32mfrom\u001b[0m \u001b[0;32mNone\u001b[0m\u001b[0;34m\u001b[0m\u001b[0;34m\u001b[0m\u001b[0m\n\u001b[0m\u001b[1;32m    203\u001b[0m \u001b[0;34m\u001b[0m\u001b[0m\n\u001b[1;32m    204\u001b[0m         meta = ApiResponseMeta(\n",
            "\u001b[0;31mConnectionError\u001b[0m: Connection error caused by: ConnectionError(Connection error caused by: NewConnectionError(<urllib3.connection.HTTPConnection object at 0x7ec8e7e499c0>: Failed to establish a new connection: [Errno 111] Connection refused))"
          ]
        }
      ],
      "source": [
        "index_settings = {\n",
        "    \"settings\": {\n",
        "        \"number_of_shards\": 1,\n",
        "        \"number_of_replicas\": 0\n",
        "    },\n",
        "    \"mappings\": {\n",
        "        \"properties\": {\n",
        "            \"text\": {\"type\": \"text\"},\n",
        "            \"section\": {\"type\": \"text\"},\n",
        "            \"question\": {\"type\": \"text\"},\n",
        "            \"course\": {\"type\": \"keyword\"}\n",
        "        }\n",
        "    }\n",
        "}\n",
        "\n",
        "index_name = \"course-questions\"\n",
        "\n",
        "es_client.indices.create(index=index_name, body=index_settings)"
      ]
    },
    {
      "cell_type": "code",
      "execution_count": null,
      "id": "7d355e4b-fcf6-4b64-8182-613c30ce3e11",
      "metadata": {
        "id": "7d355e4b-fcf6-4b64-8182-613c30ce3e11"
      },
      "outputs": [],
      "source": [
        "from tqdm.auto import tqdm\n",
        "\n",
        "for doc in tqdm(documents):\n",
        "    es_client.index(index=index_name, document=doc)"
      ]
    },
    {
      "cell_type": "code",
      "execution_count": null,
      "id": "0fda64a0-6415-43b0-a6e5-45d39604c4f0",
      "metadata": {
        "id": "0fda64a0-6415-43b0-a6e5-45d39604c4f0"
      },
      "outputs": [],
      "source": [
        "query = \"I just discovered the course can i still join it?\""
      ]
    },
    {
      "cell_type": "code",
      "execution_count": null,
      "id": "9cdca239-6d0f-4c06-8784-5f78d09d8977",
      "metadata": {
        "id": "9cdca239-6d0f-4c06-8784-5f78d09d8977"
      },
      "outputs": [],
      "source": [
        "def elastic_search(query):\n",
        "    search_query = {\n",
        "        \"size\": 5,\n",
        "        \"query\": {\n",
        "            \"bool\": {\n",
        "                \"must\": {\n",
        "                    \"multi_match\": {\n",
        "                        \"query\": query,\n",
        "                        \"fields\": [\"question^3\", \"text\", \"section\"],\n",
        "                        \"type\": \"best_fields\"\n",
        "                    }\n",
        "                },\n",
        "                \"filter\": {\n",
        "                    \"term\": {\n",
        "                        \"course\": \"data-engineering-zoomcamp\"\n",
        "                    }\n",
        "                }\n",
        "            }\n",
        "        }\n",
        "    }\n",
        "    answer = es_client.search(index=index_name, body=search_query)\n",
        "\n",
        "    answer_docs = []\n",
        "\n",
        "    for hit in answer['hits']['hits']:\n",
        "        answer_docs.append(hit['_source'])\n",
        "    return answer_docs"
      ]
    },
    {
      "cell_type": "code",
      "execution_count": null,
      "id": "a753f468-9d49-4c37-b7c8-4ac014c4e23e",
      "metadata": {
        "id": "a753f468-9d49-4c37-b7c8-4ac014c4e23e"
      },
      "outputs": [],
      "source": [
        "!df -h"
      ]
    },
    {
      "cell_type": "code",
      "execution_count": null,
      "id": "c9a8d57c-e304-43fd-8cb6-a365136abf3c",
      "metadata": {
        "id": "c9a8d57c-e304-43fd-8cb6-a365136abf3c"
      },
      "outputs": [],
      "source": [
        "!pip install transformers accelerate bitsandbytes sentencepiece"
      ]
    },
    {
      "cell_type": "code",
      "execution_count": null,
      "id": "fbd03104-eb06-4e2f-977a-3aa1722fe1c7",
      "metadata": {
        "id": "fbd03104-eb06-4e2f-977a-3aa1722fe1c7"
      },
      "outputs": [],
      "source": [
        "from transformers import T5Tokenizer, T5ForConditionalGeneration"
      ]
    },
    {
      "cell_type": "code",
      "execution_count": null,
      "id": "821b73aa-e57d-4c0a-b05c-da8a3c82b978",
      "metadata": {
        "id": "821b73aa-e57d-4c0a-b05c-da8a3c82b978"
      },
      "outputs": [],
      "source": [
        "tokenizer = T5Tokenizer.from_pretrained(\"google/flan-t5-xl\")\n",
        "model = T5ForConditionalGeneration.from_pretrained(\"google/flan-t5-xl\", device_map=\"auto\")"
      ]
    },
    {
      "cell_type": "code",
      "execution_count": null,
      "id": "0b30a367-a8dd-419a-8efc-d6995ddf18ba",
      "metadata": {
        "id": "0b30a367-a8dd-419a-8efc-d6995ddf18ba"
      },
      "outputs": [],
      "source": [
        "input__text = \"translate English to German: That is good.\"\n",
        "input_ids = tokenizer(input__text, return_tensors=\"pt\").input_ids.to(\"cuda\")\n",
        "input_ids"
      ]
    },
    {
      "cell_type": "code",
      "source": [
        "outputs = model.generate(input_ids)\n",
        "print(tokenizer.decode(outputs[0]))"
      ],
      "metadata": {
        "id": "jAh01DokwiqN"
      },
      "id": "jAh01DokwiqN",
      "execution_count": null,
      "outputs": []
    },
    {
      "cell_type": "code",
      "source": [
        "result = tokenizer.decode(outputs[0])\n",
        "result"
      ],
      "metadata": {
        "id": "8u5mlQjnxccH"
      },
      "id": "8u5mlQjnxccH",
      "execution_count": null,
      "outputs": []
    },
    {
      "cell_type": "code",
      "source": [
        "def build_prompt(query, search_results):\n",
        "    prompt_template = \"\"\"\n",
        "    You're a course teaching assistant. Answer the QUESTION based on the CONTEXT. Use only the facts from the\n",
        "    CONTEXT when answering the QUESTION.\n",
        "\n",
        "    QUESTION: {question}\n",
        "\n",
        "    CONTEXT: {context}\n",
        "    \"\"\".strip()\n",
        "\n",
        "    context = \"\"\n",
        "\n",
        "    for doc in search_results:\n",
        "        context = context + f\"section: {doc['section']}\\nquestion: {doc['question']}\\nanswer: {doc['text']}\\n\\n\"\n",
        "\n",
        "    prompt = prompt_template.format(question=query, context=context).strip()\n",
        "    return prompt"
      ],
      "metadata": {
        "id": "yA-x5_YiyoF7"
      },
      "id": "yA-x5_YiyoF7",
      "execution_count": null,
      "outputs": []
    },
    {
      "cell_type": "code",
      "source": [
        "def llm(prompt):\n",
        "  input_ids = tokenizer(prompt, return_tensors=\"pt\").input_ids.to(\"cuda\")\n",
        "  outputs = model.generate(input_ids)\n",
        "  result = tokenizer.decode(outputs[0])\n",
        "\n",
        "  return result"
      ],
      "metadata": {
        "id": "ONTdL3-nyvtl"
      },
      "id": "ONTdL3-nyvtl",
      "execution_count": null,
      "outputs": []
    },
    {
      "cell_type": "code",
      "execution_count": null,
      "id": "5ca6e648-3b97-4813-adf8-da25912c4f27",
      "metadata": {
        "id": "5ca6e648-3b97-4813-adf8-da25912c4f27"
      },
      "outputs": [],
      "source": [
        "def rag(query):\n",
        "    search_results = elastic_search(query)\n",
        "    prompt = build_prompt(query, search_results)\n",
        "    response = llm(prompt)\n",
        "    return response"
      ]
    }
  ],
  "metadata": {
    "kernelspec": {
      "display_name": "Python 3",
      "name": "python3"
    },
    "language_info": {
      "codemirror_mode": {
        "name": "ipython",
        "version": 3
      },
      "file_extension": ".py",
      "mimetype": "text/x-python",
      "name": "python",
      "nbconvert_exporter": "python",
      "pygments_lexer": "ipython3",
      "version": "3.12.1"
    },
    "colab": {
      "provenance": [],
      "machine_shape": "hm",
      "gpuType": "A100"
    },
    "accelerator": "GPU"
  },
  "nbformat": 4,
  "nbformat_minor": 5
}